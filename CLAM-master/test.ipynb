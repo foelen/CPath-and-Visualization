{
 "cells": [
  {
   "cell_type": "code",
   "execution_count": 1,
   "metadata": {},
   "outputs": [],
   "source": [
    "import os\n",
    "import openslide"
   ]
  },
  {
   "cell_type": "code",
   "execution_count": 2,
   "metadata": {},
   "outputs": [
    {
     "name": "stdout",
     "output_type": "stream",
     "text": [
      "d:\\app\\pythoncode\\cpath\\CLAM-master\\RESULTS_DIRECTORY\\CSV_FILE_NAME\n"
     ]
    }
   ],
   "source": [
    "print(os.path.abspath('RESULTS_DIRECTORY\\\\CSV_FILE_NAME'))"
   ]
  },
  {
   "cell_type": "code",
   "execution_count": 1,
   "metadata": {},
   "outputs": [],
   "source": [
    "import argparse"
   ]
  },
  {
   "cell_type": "code",
   "execution_count": 3,
   "metadata": {},
   "outputs": [],
   "source": [
    "import os\n",
    "import pandas as pd\n",
    "import requests\n",
    "import sys\n",
    "import argparse\n",
    "import signal\n"
   ]
  },
  {
   "cell_type": "code",
   "execution_count": 9,
   "metadata": {},
   "outputs": [],
   "source": [
    "import os \n",
    "import pandas as pd \n",
    "\n",
    "df = pd.read_csv('RESULTS_DIRECTORY\\process_list_autogen.csv') # 这个是上一步生成的文件\n",
    "ids1 = [i[:-4] for i in df.slide_id]\n",
    "ids2 = [i[:-3] for i in os.listdir('RESULTS_DIRECTORY/patches/')]\n",
    "df['slide_id'] = ids1\n",
    "ids = df['slide_id'].isin(ids2)\n",
    "sum(ids)\n",
    "df.loc[ids].to_csv('RESULTS_DIRECTORY\\Step_2.csv',index=False)"
   ]
  },
  {
   "cell_type": "code",
   "execution_count": null,
   "metadata": {},
   "outputs": [],
   "source": [
    "# Step_2 get patch features\n",
    "# data_h5_dir  输出文件地址\n",
    "# data_slide_dir svs文件地址\n",
    "# 上一步生成的csv csv_path\n",
    "# feat_dir 输出文件地址\n",
    "\n",
    "CUDA_VISIBLE_DEVICES=0 python extract_features_fp.py \\\n",
    "--data_h5_dir /RESULTS_DIRECTORY/ \\\n",
    "--data_slide_dir ../tcga_download/output/ \\\n",
    "--csv_path /RESULTS_DIRECTORY/Step_2.csv \\\n",
    "--feat_dir /RESULTS_DIRECTORY/FEATURES_DIRECTORY \\\n",
    "--batch_size 512 \\\n",
    "--slide_ext .svs\n",
    "————————————————\n"
   ]
  }
 ],
 "metadata": {
  "kernelspec": {
   "display_name": "Python 3",
   "language": "python",
   "name": "python3"
  },
  "language_info": {
   "codemirror_mode": {
    "name": "ipython",
    "version": 3
   },
   "file_extension": ".py",
   "mimetype": "text/x-python",
   "name": "python",
   "nbconvert_exporter": "python",
   "pygments_lexer": "ipython3",
   "version": "3.11.9"
  }
 },
 "nbformat": 4,
 "nbformat_minor": 2
}
